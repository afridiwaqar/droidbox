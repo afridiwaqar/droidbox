{
 "cells": [
  {
   "cell_type": "raw",
   "metadata": {},
   "source": [
    "Going to slice data into two halves, 70% for training and 30% for testing"
   ]
  },
  {
   "cell_type": "code",
   "execution_count": 3,
   "metadata": {
    "collapsed": false
   },
   "outputs": [
    {
     "name": "stdout",
     "output_type": "stream",
     "text": [
      "Starting Slicing\n"
     ]
    }
   ],
   "source": [
    "import random\n",
    "import pandas as pd\n",
    "import numpy as np \n",
    "\n",
    "print \"Starting Slicing\"\n",
    "data_file = \"final-result.csv\"\n",
    "\n",
    "train = pd.read_csv(data_file, header=0, delimiter=\",\")\n",
    "ts =  train.shape \n",
    "\n",
    "df = pd.DataFrame(train)\n",
    "new_train = df.reindex(np.random.permutation(df.index))\n",
    "\n",
    "indice_70_percent = int((ts[0]/100.0)* 70)\n",
    "\n",
    "#new_train[indice_70_percent:].to_csv('train_data.csv', index=False, sep = \",\")\n",
    "#new_train[:indice_70_percent].to_csv('test_data.csv', index=False, sep = \",\")\n",
    "\n",
    "x= new_train[indice_70_percent:]\n",
    "y = new_train[:indice_70_percent]\n",
    "\n",
    "#print new_train[:indice_70_percent]"
   ]
  },
  {
   "cell_type": "code",
   "execution_count": null,
   "metadata": {
    "collapsed": true
   },
   "outputs": [],
   "source": []
  },
  {
   "cell_type": "code",
   "execution_count": null,
   "metadata": {
    "collapsed": true
   },
   "outputs": [],
   "source": []
  }
 ],
 "metadata": {
  "kernelspec": {
   "display_name": "Python 2",
   "language": "python",
   "name": "python2"
  },
  "language_info": {
   "codemirror_mode": {
    "name": "ipython",
    "version": 2
   },
   "file_extension": ".py",
   "mimetype": "text/x-python",
   "name": "python",
   "nbconvert_exporter": "python",
   "pygments_lexer": "ipython2",
   "version": "2.7.6"
  }
 },
 "nbformat": 4,
 "nbformat_minor": 0
}
